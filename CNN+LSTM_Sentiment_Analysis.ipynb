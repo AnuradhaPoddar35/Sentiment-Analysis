{
 "cells": [
  {
   "cell_type": "code",
   "execution_count": 1,
   "metadata": {},
   "outputs": [
    {
     "name": "stderr",
     "output_type": "stream",
     "text": [
      "Using TensorFlow backend.\n"
     ]
    }
   ],
   "source": [
    "from keras.datasets import imdb"
   ]
  },
  {
   "cell_type": "code",
   "execution_count": 2,
   "metadata": {},
   "outputs": [
    {
     "name": "stdout",
     "output_type": "stream",
     "text": [
      "Loaded dataset with 25000 training samples, 25000 test samples\n"
     ]
    }
   ],
   "source": [
    "vocabulary_size = 5000\n",
    "(X_train, y_train), (X_test, y_test) = imdb.load_data(num_words = vocabulary_size)\n",
    "print('Loaded dataset with {} training samples, {} test samples'.format(len(X_train), len(X_test)))"
   ]
  },
  {
   "cell_type": "code",
   "execution_count": 3,
   "metadata": {},
   "outputs": [
    {
     "name": "stdout",
     "output_type": "stream",
     "text": [
      "---review---\n",
      "[1, 2, 365, 1234, 5, 1156, 354, 11, 14, 2, 2, 7, 1016, 2, 2, 356, 44, 4, 1349, 500, 746, 5, 200, 4, 4132, 11, 2, 2, 1117, 1831, 2, 5, 4831, 26, 6, 2, 4183, 17, 369, 37, 215, 1345, 143, 2, 5, 1838, 8, 1974, 15, 36, 119, 257, 85, 52, 486, 9, 6, 2, 2, 63, 271, 6, 196, 96, 949, 4121, 4, 2, 7, 4, 2212, 2436, 819, 63, 47, 77, 2, 180, 6, 227, 11, 94, 2494, 2, 13, 423, 4, 168, 7, 4, 22, 5, 89, 665, 71, 270, 56, 5, 13, 197, 12, 161, 2, 99, 76, 23, 2, 7, 419, 665, 40, 91, 85, 108, 7, 4, 2084, 5, 4773, 81, 55, 52, 1901]\n",
      "---label---\n",
      "1\n"
     ]
    }
   ],
   "source": [
    "print('---review---')\n",
    "print(X_train[6])\n",
    "print('---label---')\n",
    "print(y_train[6])"
   ]
  },
  {
   "cell_type": "code",
   "execution_count": 4,
   "metadata": {},
   "outputs": [
    {
     "name": "stdout",
     "output_type": "stream",
     "text": [
      "---review with words---\n",
      "['the', 'and', 'full', 'involving', 'to', 'impressive', 'boring', 'this', 'as', 'and', 'and', 'br', 'villain', 'and', 'and', 'need', 'has', 'of', 'costumes', 'b', 'message', 'to', 'may', 'of', 'props', 'this', 'and', 'and', 'concept', 'issue', 'and', 'to', \"god's\", 'he', 'is', 'and', 'unfolds', 'movie', 'women', 'like', \"isn't\", 'surely', \"i'm\", 'and', 'to', 'toward', 'in', \"here's\", 'for', 'from', 'did', 'having', 'because', 'very', 'quality', 'it', 'is', 'and', 'and', 'really', 'book', 'is', 'both', 'too', 'worked', 'carl', 'of', 'and', 'br', 'of', 'reviewer', 'closer', 'figure', 'really', 'there', 'will', 'and', 'things', 'is', 'far', 'this', 'make', 'mistakes', 'and', 'was', \"couldn't\", 'of', 'few', 'br', 'of', 'you', 'to', \"don't\", 'female', 'than', 'place', 'she', 'to', 'was', 'between', 'that', 'nothing', 'and', 'movies', 'get', 'are', 'and', 'br', 'yes', 'female', 'just', 'its', 'because', 'many', 'br', 'of', 'overly', 'to', 'descent', 'people', 'time', 'very', 'bland']\n",
      "---label---\n",
      "1\n"
     ]
    }
   ],
   "source": [
    "word2id = imdb.get_word_index()\n",
    "id2word = {i: word for word, i in word2id.items()}\n",
    "print('---review with words---')\n",
    "print([id2word.get(i) for i in X_train[6]])\n",
    "print('---label---')\n",
    "print(y_train[6])"
   ]
  },
  {
   "cell_type": "code",
   "execution_count": 5,
   "metadata": {},
   "outputs": [
    {
     "name": "stdout",
     "output_type": "stream",
     "text": [
      "Maximum review length: 2697\n"
     ]
    }
   ],
   "source": [
    "print('Maximum review length: {}'.format(\n",
    "len(max((X_train + X_test), key=len))))"
   ]
  },
  {
   "cell_type": "code",
   "execution_count": 6,
   "metadata": {},
   "outputs": [
    {
     "name": "stdout",
     "output_type": "stream",
     "text": [
      "Minimum review length: 14\n"
     ]
    }
   ],
   "source": [
    "print('Minimum review length: {}'.format(\n",
    "len(min((X_test + X_test), key=len))))"
   ]
  },
  {
   "cell_type": "code",
   "execution_count": 7,
   "metadata": {},
   "outputs": [],
   "source": [
    "from keras.preprocessing import sequence\n",
    "max_words = 200\n",
    "X_train = sequence.pad_sequences(X_train, maxlen=max_words)\n",
    "X_test = sequence.pad_sequences(X_test, maxlen=max_words)"
   ]
  },
  {
   "cell_type": "code",
   "execution_count": 25,
   "metadata": {},
   "outputs": [
    {
     "data": {
      "text/plain": [
       "array([   5,   25,  100,   43,  838,  112,   50,  670,    2,    9,   35,\n",
       "        480,  284,    5,  150,    4,  172,  112,  167,    2,  336,  385,\n",
       "         39,    4,  172, 4536, 1111,   17,  546,   38,   13,  447,    4,\n",
       "        192,   50,   16,    6,  147, 2025,   19,   14,   22,    4, 1920,\n",
       "       4613,  469,    4,   22,   71,   87,   12,   16,   43,  530,   38,\n",
       "         76,   15,   13, 1247,    4,   22,   17,  515,   17,   12,   16,\n",
       "        626,   18,    2,    5,   62,  386,   12,    8,  316,    8,  106,\n",
       "          5,    4, 2223,    2,   16,  480,   66, 3785,   33,    4,  130,\n",
       "         12,   16,   38,  619,    5,   25,  124,   51,   36,  135,   48,\n",
       "         25, 1415,   33,    6,   22,   12,  215,   28,   77,   52,    5,\n",
       "         14,  407,   16,   82,    2,    8,    4,  107,  117,    2,   15,\n",
       "        256,    4,    2,    7, 3766,    5,  723,   36,   71,   43,  530,\n",
       "        476,   26,  400,  317,   46,    7,    4,    2, 1029,   13,  104,\n",
       "         88,    4,  381,   15,  297,   98,   32, 2071,   56,   26,  141,\n",
       "          6,  194,    2,   18,    4,  226,   22,   21,  134,  476,   26,\n",
       "        480,    5,  144,   30,    2,   18,   51,   36,   28,  224,   92,\n",
       "         25,  104,    4,  226,   65,   16,   38, 1334,   88,   12,   16,\n",
       "        283,    5,   16, 4472,  113,  103,   32,   15,   16,    2,   19,\n",
       "        178,   32])"
      ]
     },
     "execution_count": 25,
     "metadata": {},
     "output_type": "execute_result"
    }
   ],
   "source": [
    "X_train[0]"
   ]
  },
  {
   "cell_type": "code",
   "execution_count": 26,
   "metadata": {},
   "outputs": [],
   "source": [
    "# from keras import Sequential\n",
    "# from keras.layers import Embedding, LSTM, Dense, Dropout, Conv1D, MaxPooling1D\n",
    "# embedding_size=200\n",
    "# model=Sequential()\n",
    "# model.add(Embedding(vocabulary_size, embedding_size, input_length=max_words))\n",
    "# model.add(Conv1D(32, kernel_size=5,\n",
    "#                  activation='relu'))\n",
    "# model.add(MaxPooling1D(pool_size=2))\n",
    "# model.add(Dropout(0.5))\n",
    "# model.add(LSTM(100))\n",
    "# model.add(Dropout(0.5))\n",
    "# model.add(Dense(1, activation='sigmoid'))\n",
    "# print(model.summary())"
   ]
  },
  {
   "cell_type": "code",
   "execution_count": 34,
   "metadata": {},
   "outputs": [],
   "source": [
    "from keras.layers import Embedding\n",
    "from keras.models import Sequential, Model\n",
    "from keras.layers import Dense, Activation\n",
    "from keras.layers import Flatten, Conv1D, SpatialDropout1D, MaxPooling1D,AveragePooling1D, merge, concatenate, Input, Dropout, LSTM\n",
    "\n",
    "def model(embedding_size=200, max_words=200, y_dim=1, num_filters=200, filter_sizes=[3,4,5], pool_padding='valid', dropout=0.5):\n",
    "    embed_input = Input(shape=(max_words,))\n",
    "    x = Embedding(vocabulary_size, embedding_size, input_length=max_words)(embed_input)\n",
    "    pooled_outputs = []\n",
    "    for i in range(len(filter_sizes)):\n",
    "        conv = Conv1D(num_filters, kernel_size=filter_sizes[i], padding='valid', activation='relu')(x)\n",
    "        conv = MaxPooling1D(pool_size=max_words-filter_sizes[i]+1, strides=1, padding = pool_padding)(conv)           \n",
    "        pooled_outputs.append(conv)\n",
    "    merge = concatenate(pooled_outputs)\n",
    "        \n",
    "    x = Dropout(dropout)(merge)\n",
    "    x = LSTM(100)(x)\n",
    "    x = Dropout(0.5)(x)\n",
    "    x = Dense(y_dim, activation='sigmoid')(x)\n",
    "\n",
    "    model = Model(inputs=embed_input,outputs=x)\n",
    "\n",
    "    model.compile(optimizer='adam',loss = 'categorical_crossentropy', metrics = ['acc'])\n",
    "    print(model.summary())\n",
    "    \n",
    "    from keras.utils import plot_model\n",
    "    plot_model(model, to_file='shared_input_layer.png')\n",
    "    \n",
    "    return model\n"
   ]
  },
  {
   "cell_type": "code",
   "execution_count": 35,
   "metadata": {},
   "outputs": [
    {
     "name": "stdout",
     "output_type": "stream",
     "text": [
      "__________________________________________________________________________________________________\n",
      "Layer (type)                    Output Shape         Param #     Connected to                     \n",
      "==================================================================================================\n",
      "input_10 (InputLayer)           (None, 200)          0                                            \n",
      "__________________________________________________________________________________________________\n",
      "embedding_10 (Embedding)        (None, 200, 200)     1000000     input_10[0][0]                   \n",
      "__________________________________________________________________________________________________\n",
      "conv1d_28 (Conv1D)              (None, 198, 200)     120200      embedding_10[0][0]               \n",
      "__________________________________________________________________________________________________\n",
      "conv1d_29 (Conv1D)              (None, 197, 200)     160200      embedding_10[0][0]               \n",
      "__________________________________________________________________________________________________\n",
      "conv1d_30 (Conv1D)              (None, 196, 200)     200200      embedding_10[0][0]               \n",
      "__________________________________________________________________________________________________\n",
      "max_pooling1d_28 (MaxPooling1D) (None, 1, 200)       0           conv1d_28[0][0]                  \n",
      "__________________________________________________________________________________________________\n",
      "max_pooling1d_29 (MaxPooling1D) (None, 1, 200)       0           conv1d_29[0][0]                  \n",
      "__________________________________________________________________________________________________\n",
      "max_pooling1d_30 (MaxPooling1D) (None, 1, 200)       0           conv1d_30[0][0]                  \n",
      "__________________________________________________________________________________________________\n",
      "concatenate_10 (Concatenate)    (None, 1, 600)       0           max_pooling1d_28[0][0]           \n",
      "                                                                 max_pooling1d_29[0][0]           \n",
      "                                                                 max_pooling1d_30[0][0]           \n",
      "__________________________________________________________________________________________________\n",
      "dropout_12 (Dropout)            (None, 1, 600)       0           concatenate_10[0][0]             \n",
      "__________________________________________________________________________________________________\n",
      "lstm_5 (LSTM)                   (None, 100)          280400      dropout_12[0][0]                 \n",
      "__________________________________________________________________________________________________\n",
      "dropout_13 (Dropout)            (None, 100)          0           lstm_5[0][0]                     \n",
      "__________________________________________________________________________________________________\n",
      "dense_8 (Dense)                 (None, 1)            101         dropout_13[0][0]                 \n",
      "==================================================================================================\n",
      "Total params: 1,761,101\n",
      "Trainable params: 1,761,101\n",
      "Non-trainable params: 0\n",
      "__________________________________________________________________________________________________\n",
      "None\n"
     ]
    },
    {
     "data": {
      "image/png": "[encoded data removed]",
      "text/plain": [
       "<IPython.core.display.Image object>"
      ]
     },
     "execution_count": 35,
     "metadata": {},
     "output_type": "execute_result"
    }
   ],
   "source": [
    "model = model(embedding_size=200, max_words=200,y_dim=1,filter_sizes = [3,4,5],dropout=0.5)\n",
    "from IPython.display import Image\n",
    "Image(filename='shared_input_layer.png') "
   ]
  },
  {
   "cell_type": "code",
   "execution_count": 36,
   "metadata": {},
   "outputs": [],
   "source": [
    "# embedding_size=200\n",
    "# model=Sequential()\n",
    "# model.add(Embedding(vocabulary_size, embedding_size, input_length=max_words))\n",
    "# model.add(create_convnet(model))\n",
    "# model.add(Conv1D(32, kernel_size=3,\n",
    "#                  activation='relu'))\n",
    "# model.add(MaxPooling1D(pool_size=2))\n",
    "# model.add(Dropout(0.5))\n",
    "# model.add(LSTM(100))\n",
    "# model.add(Dropout(0.5))\n",
    "# model.add(Dense(1, activation='sigmoid'))\n",
    "# print(model.summary())"
   ]
  },
  {
   "cell_type": "code",
   "execution_count": 37,
   "metadata": {},
   "outputs": [],
   "source": [
    "model.compile(loss='binary_crossentropy', \n",
    "             optimizer='adam', \n",
    "             metrics=['accuracy'])"
   ]
  },
  {
   "cell_type": "code",
   "execution_count": 38,
   "metadata": {},
   "outputs": [
    {
     "name": "stdout",
     "output_type": "stream",
     "text": [
      "Train on 24936 samples, validate on 64 samples\n",
      "Epoch 1/3\n",
      "24936/24936 [==============================] - 44s 2ms/step - loss: 0.4557 - acc: 0.7666 - val_loss: 0.2411 - val_acc: 0.8906\n",
      "Epoch 2/3\n",
      "24936/24936 [==============================] - 26s 1ms/step - loss: 0.2596 - acc: 0.8955 - val_loss: 0.2146 - val_acc: 0.9062\n",
      "Epoch 3/3\n",
      "24936/24936 [==============================] - 26s 1ms/step - loss: 0.1791 - acc: 0.9312 - val_loss: 0.2787 - val_acc: 0.8750\n"
     ]
    },
    {
     "data": {
      "text/plain": [
       "<keras.callbacks.History at 0x2acaee16b70>"
      ]
     },
     "execution_count": 38,
     "metadata": {},
     "output_type": "execute_result"
    }
   ],
   "source": [
    "batch_size = 64\n",
    "num_epochs = 3\n",
    "X_valid, y_valid = X_train[:batch_size], y_train[:batch_size]\n",
    "X_train2, y_train2 = X_train[batch_size:], y_train[batch_size:]\n",
    "model.fit(X_train2, y_train2, validation_data=(X_valid, y_valid), batch_size=batch_size, epochs=num_epochs)"
   ]
  },
  {
   "cell_type": "code",
   "execution_count": 39,
   "metadata": {},
   "outputs": [
    {
     "name": "stdout",
     "output_type": "stream",
     "text": [
      "Test accuracy: 0.88676\n"
     ]
    }
   ],
   "source": [
    "scores = model.evaluate(X_test, y_test, verbose=0)\n",
    "print('Test accuracy:', scores[1])"
   ]
  },
  {
   "cell_type": "code",
   "execution_count": null,
   "metadata": {},
   "outputs": [],
   "source": []
  }
 ],
 "metadata": {
  "kernelspec": {
   "display_name": "Python 3",
   "language": "python",
   "name": "python3"
  },
  "language_info": {
   "codemirror_mode": {
    "name": "ipython",
    "version": 3
   },
   "file_extension": ".py",
   "mimetype": "text/x-python",
   "name": "python",
   "nbconvert_exporter": "python",
   "pygments_lexer": "ipython3",
   "version": "3.6.8"
  }
 },
 "nbformat": 4,
 "nbformat_minor": 2
}
